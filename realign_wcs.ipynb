{
 "cells": [
  {
   "cell_type": "markdown",
   "id": "835dc4ae",
   "metadata": {},
   "source": [
    "# Re-Align Files\n",
    "In this notebook we realign the SN1 and SN2 files to have the same alignment as SN3. To do this, we use the deep images."
   ]
  },
  {
   "cell_type": "code",
   "execution_count": 3,
   "id": "7b0f4733",
   "metadata": {},
   "outputs": [],
   "source": [
    "from astropy.io import fits\n",
    "import matplotlib.pyplot as plt\n",
    "import astroalign as aa\n",
    "import numpy as np\n",
    "import time\n",
    "from astropy.wcs import WCS"
   ]
  },
  {
   "cell_type": "markdown",
   "id": "90ee0e2d",
   "metadata": {},
   "source": [
    "To realign images, we have to pass the three filters."
   ]
  },
  {
   "cell_type": "code",
   "execution_count": 13,
   "id": "8bcb9313",
   "metadata": {},
   "outputs": [],
   "source": [
    "path = './'\n",
    "object_name = 'NGC1275'\n",
    "filter1 = 'SN1'\n",
    "filter2 = 'SN2'\n",
    "filter3 = 'HighRes'"
   ]
  },
  {
   "cell_type": "code",
   "execution_count": 14,
   "id": "667f3458",
   "metadata": {},
   "outputs": [],
   "source": [
    "# Define deep images for each filter\n",
    "NGC_1 = fits.open(path+object_name+'_'+filter1+'_deep'+'.fits')[0].data.byteswap().newbyteorder()\n",
    "NGC_2 = fits.open(path+object_name+'_'+filter2+'_deep'+'.fits')[0].data.byteswap().newbyteorder()\n",
    "NGC_3 = fits.open(path+object_name+'_'+filter3+'_deep'+'.fits')[0].data.byteswap().newbyteorder()"
   ]
  },
  {
   "cell_type": "code",
   "execution_count": 15,
   "id": "40cecc91",
   "metadata": {},
   "outputs": [],
   "source": [
    "# Apply transformations \n",
    "t, __ = aa.find_transform(NGC_1, NGC_3)\n",
    "NGC_1_aligned, footprint = aa.apply_transform(t, NGC_1, NGC_3)  # Calculate cube 1 alginment\n",
    "t, __ = aa.find_transform(NGC_2, NGC_3)\n",
    "NGC_2_aligned, footprint = aa.apply_transform(t, NGC_2, NGC_3)  # Calculate cube 2 alignment"
   ]
  },
  {
   "cell_type": "code",
   "execution_count": 5,
   "id": "d551e583",
   "metadata": {},
   "outputs": [],
   "source": [
    "hdr = WCS(fits.open(path+'SN3/'+object_name+'_'+'SN3_deep'+'.fits')[0].header).to_header()\n",
    "hdr['Comment'] = 'Updated to have the correct alignment based off Halpha image on %s by Carter Rhea'%(str(time.time()))\n",
    "fits.writeto(object_name+'_'+filter1+'_aligned.fits', NGC_1_aligned, hdr, overwrite=True)\n",
    "fits.writeto(object_name+'_'+filter2+'_aligned.fits', NGC_2_aligned, hdr, overwrite=True)"
   ]
  },
  {
   "cell_type": "code",
   "execution_count": null,
   "id": "49d2801d",
   "metadata": {},
   "outputs": [],
   "source": []
  },
  {
   "cell_type": "code",
   "execution_count": null,
   "id": "e778bde3",
   "metadata": {},
   "outputs": [],
   "source": []
  },
  {
   "cell_type": "code",
   "execution_count": null,
   "id": "549b0c46",
   "metadata": {},
   "outputs": [],
   "source": [
    "wcs.wcs_pix2world(((100, 100),), 0)"
   ]
  }
 ],
 "metadata": {
  "kernelspec": {
   "display_name": "Python 3 (ipykernel)",
   "language": "python",
   "name": "python3"
  },
  "language_info": {
   "codemirror_mode": {
    "name": "ipython",
    "version": 3
   },
   "file_extension": ".py",
   "mimetype": "text/x-python",
   "name": "python",
   "nbconvert_exporter": "python",
   "pygments_lexer": "ipython3",
   "version": "3.9.5"
  },
  "vscode": {
   "interpreter": {
    "hash": "11b69f77af28945abce268b9123fa11c04228dde655d6f5c915c14942660479f"
   }
  }
 },
 "nbformat": 4,
 "nbformat_minor": 5
}
